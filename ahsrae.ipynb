{
 "cells": [
  {
   "cell_type": "code",
   "execution_count": 3,
   "metadata": {},
   "outputs": [],
   "source": [
    "import pandas as pd\n",
    "import matplotlib.pyplot as plt\n",
    "import datetime\n",
    "import numpy as np\n",
    "from sklearn.linear_model import LinearRegression\n",
    "from sklearn.model_selection import train_test_split\n",
    "from sklearn.metrics import mean_squared_log_error\n",
    "from sklearn.metrics import mean_squared_error"
   ]
  },
  {
   "cell_type": "markdown",
   "metadata": {},
   "source": [
    "<h1> Load and Combine Data"
   ]
  },
  {
   "cell_type": "code",
   "execution_count": 4,
   "metadata": {},
   "outputs": [],
   "source": [
    "df=pd.read_csv('train.csv')\n",
    "b_meta=pd.read_csv('building_metadata.csv')\n",
    "weather_train=pd.read_csv('weather_train.csv')"
   ]
  },
  {
   "cell_type": "code",
   "execution_count": 5,
   "metadata": {},
   "outputs": [],
   "source": [
    "df=df.merge(b_meta, how='left',on=['building_id']).merge(weather_train,how='left',on=['site_id','timestamp'])"
   ]
  },
  {
   "cell_type": "code",
   "execution_count": 7,
   "metadata": {},
   "outputs": [
    {
     "data": {
      "text/html": [
       "<div>\n",
       "<style scoped>\n",
       "    .dataframe tbody tr th:only-of-type {\n",
       "        vertical-align: middle;\n",
       "    }\n",
       "\n",
       "    .dataframe tbody tr th {\n",
       "        vertical-align: top;\n",
       "    }\n",
       "\n",
       "    .dataframe thead th {\n",
       "        text-align: right;\n",
       "    }\n",
       "</style>\n",
       "<table border=\"1\" class=\"dataframe\">\n",
       "  <thead>\n",
       "    <tr style=\"text-align: right;\">\n",
       "      <th></th>\n",
       "      <th>building_id</th>\n",
       "      <th>meter</th>\n",
       "      <th>timestamp</th>\n",
       "      <th>meter_reading</th>\n",
       "      <th>site_id</th>\n",
       "      <th>primary_use</th>\n",
       "      <th>square_feet</th>\n",
       "      <th>year_built</th>\n",
       "      <th>floor_count</th>\n",
       "      <th>air_temperature</th>\n",
       "      <th>cloud_coverage</th>\n",
       "      <th>dew_temperature</th>\n",
       "      <th>precip_depth_1_hr</th>\n",
       "      <th>sea_level_pressure</th>\n",
       "      <th>wind_direction</th>\n",
       "      <th>wind_speed</th>\n",
       "    </tr>\n",
       "  </thead>\n",
       "  <tbody>\n",
       "    <tr>\n",
       "      <th>0</th>\n",
       "      <td>0</td>\n",
       "      <td>0</td>\n",
       "      <td>2016-01-01 00:00:00</td>\n",
       "      <td>0.0</td>\n",
       "      <td>0</td>\n",
       "      <td>Education</td>\n",
       "      <td>7432</td>\n",
       "      <td>2008.0</td>\n",
       "      <td>NaN</td>\n",
       "      <td>25.0</td>\n",
       "      <td>6.0</td>\n",
       "      <td>20.0</td>\n",
       "      <td>NaN</td>\n",
       "      <td>1019.7</td>\n",
       "      <td>0.0</td>\n",
       "      <td>0.0</td>\n",
       "    </tr>\n",
       "    <tr>\n",
       "      <th>1</th>\n",
       "      <td>1</td>\n",
       "      <td>0</td>\n",
       "      <td>2016-01-01 00:00:00</td>\n",
       "      <td>0.0</td>\n",
       "      <td>0</td>\n",
       "      <td>Education</td>\n",
       "      <td>2720</td>\n",
       "      <td>2004.0</td>\n",
       "      <td>NaN</td>\n",
       "      <td>25.0</td>\n",
       "      <td>6.0</td>\n",
       "      <td>20.0</td>\n",
       "      <td>NaN</td>\n",
       "      <td>1019.7</td>\n",
       "      <td>0.0</td>\n",
       "      <td>0.0</td>\n",
       "    </tr>\n",
       "    <tr>\n",
       "      <th>2</th>\n",
       "      <td>2</td>\n",
       "      <td>0</td>\n",
       "      <td>2016-01-01 00:00:00</td>\n",
       "      <td>0.0</td>\n",
       "      <td>0</td>\n",
       "      <td>Education</td>\n",
       "      <td>5376</td>\n",
       "      <td>1991.0</td>\n",
       "      <td>NaN</td>\n",
       "      <td>25.0</td>\n",
       "      <td>6.0</td>\n",
       "      <td>20.0</td>\n",
       "      <td>NaN</td>\n",
       "      <td>1019.7</td>\n",
       "      <td>0.0</td>\n",
       "      <td>0.0</td>\n",
       "    </tr>\n",
       "    <tr>\n",
       "      <th>3</th>\n",
       "      <td>3</td>\n",
       "      <td>0</td>\n",
       "      <td>2016-01-01 00:00:00</td>\n",
       "      <td>0.0</td>\n",
       "      <td>0</td>\n",
       "      <td>Education</td>\n",
       "      <td>23685</td>\n",
       "      <td>2002.0</td>\n",
       "      <td>NaN</td>\n",
       "      <td>25.0</td>\n",
       "      <td>6.0</td>\n",
       "      <td>20.0</td>\n",
       "      <td>NaN</td>\n",
       "      <td>1019.7</td>\n",
       "      <td>0.0</td>\n",
       "      <td>0.0</td>\n",
       "    </tr>\n",
       "    <tr>\n",
       "      <th>4</th>\n",
       "      <td>4</td>\n",
       "      <td>0</td>\n",
       "      <td>2016-01-01 00:00:00</td>\n",
       "      <td>0.0</td>\n",
       "      <td>0</td>\n",
       "      <td>Education</td>\n",
       "      <td>116607</td>\n",
       "      <td>1975.0</td>\n",
       "      <td>NaN</td>\n",
       "      <td>25.0</td>\n",
       "      <td>6.0</td>\n",
       "      <td>20.0</td>\n",
       "      <td>NaN</td>\n",
       "      <td>1019.7</td>\n",
       "      <td>0.0</td>\n",
       "      <td>0.0</td>\n",
       "    </tr>\n",
       "  </tbody>\n",
       "</table>\n",
       "</div>"
      ],
      "text/plain": [
       "   building_id  meter            timestamp  meter_reading  site_id  \\\n",
       "0            0      0  2016-01-01 00:00:00            0.0        0   \n",
       "1            1      0  2016-01-01 00:00:00            0.0        0   \n",
       "2            2      0  2016-01-01 00:00:00            0.0        0   \n",
       "3            3      0  2016-01-01 00:00:00            0.0        0   \n",
       "4            4      0  2016-01-01 00:00:00            0.0        0   \n",
       "\n",
       "  primary_use  square_feet  year_built  floor_count  air_temperature  \\\n",
       "0   Education         7432      2008.0          NaN             25.0   \n",
       "1   Education         2720      2004.0          NaN             25.0   \n",
       "2   Education         5376      1991.0          NaN             25.0   \n",
       "3   Education        23685      2002.0          NaN             25.0   \n",
       "4   Education       116607      1975.0          NaN             25.0   \n",
       "\n",
       "   cloud_coverage  dew_temperature  precip_depth_1_hr  sea_level_pressure  \\\n",
       "0             6.0             20.0                NaN              1019.7   \n",
       "1             6.0             20.0                NaN              1019.7   \n",
       "2             6.0             20.0                NaN              1019.7   \n",
       "3             6.0             20.0                NaN              1019.7   \n",
       "4             6.0             20.0                NaN              1019.7   \n",
       "\n",
       "   wind_direction  wind_speed  \n",
       "0             0.0         0.0  \n",
       "1             0.0         0.0  \n",
       "2             0.0         0.0  \n",
       "3             0.0         0.0  \n",
       "4             0.0         0.0  "
      ]
     },
     "execution_count": 7,
     "metadata": {},
     "output_type": "execute_result"
    }
   ],
   "source": [
    "df.head()"
   ]
  },
  {
   "cell_type": "markdown",
   "metadata": {},
   "source": [
    "<h1> Cleaning"
   ]
  },
  {
   "cell_type": "code",
   "execution_count": 20,
   "metadata": {},
   "outputs": [
    {
     "data": {
      "text/plain": [
       "1.0"
      ]
     },
     "execution_count": 20,
     "metadata": {},
     "output_type": "execute_result"
    }
   ],
   "source": [
    "df.isnull().any(axis=1).sum()\n",
    "(df.shape[0]-df.isnull().any(axis=1).sum())/df.shape[0]\n",
    "#Only 2 percent of rows don't have at least one nan value"
   ]
  },
  {
   "cell_type": "code",
   "execution_count": 18,
   "metadata": {},
   "outputs": [
    {
     "data": {
      "text/html": [
       "<div>\n",
       "<style scoped>\n",
       "    .dataframe tbody tr th:only-of-type {\n",
       "        vertical-align: middle;\n",
       "    }\n",
       "\n",
       "    .dataframe tbody tr th {\n",
       "        vertical-align: top;\n",
       "    }\n",
       "\n",
       "    .dataframe thead th {\n",
       "        text-align: right;\n",
       "    }\n",
       "</style>\n",
       "<table border=\"1\" class=\"dataframe\">\n",
       "  <thead>\n",
       "    <tr style=\"text-align: right;\">\n",
       "      <th></th>\n",
       "      <th>building_id</th>\n",
       "      <th>meter</th>\n",
       "      <th>meter_reading</th>\n",
       "      <th>site_id</th>\n",
       "      <th>square_feet</th>\n",
       "      <th>year_built</th>\n",
       "      <th>floor_count</th>\n",
       "      <th>air_temperature</th>\n",
       "      <th>cloud_coverage</th>\n",
       "      <th>dew_temperature</th>\n",
       "      <th>precip_depth_1_hr</th>\n",
       "      <th>sea_level_pressure</th>\n",
       "      <th>wind_direction</th>\n",
       "      <th>wind_speed</th>\n",
       "    </tr>\n",
       "  </thead>\n",
       "  <tbody>\n",
       "    <tr>\n",
       "      <th>count</th>\n",
       "      <td>321728.000000</td>\n",
       "      <td>321728.0</td>\n",
       "      <td>321728.000000</td>\n",
       "      <td>321728.0</td>\n",
       "      <td>321728.000000</td>\n",
       "      <td>321728.000000</td>\n",
       "      <td>321728.000000</td>\n",
       "      <td>321728.000000</td>\n",
       "      <td>321728.000000</td>\n",
       "      <td>321728.000000</td>\n",
       "      <td>321728.000000</td>\n",
       "      <td>321728.000000</td>\n",
       "      <td>321728.000000</td>\n",
       "      <td>321728.000000</td>\n",
       "    </tr>\n",
       "    <tr>\n",
       "      <th>mean</th>\n",
       "      <td>610.088559</td>\n",
       "      <td>0.0</td>\n",
       "      <td>179.570860</td>\n",
       "      <td>4.0</td>\n",
       "      <td>95639.173774</td>\n",
       "      <td>1953.484129</td>\n",
       "      <td>5.399120</td>\n",
       "      <td>15.724291</td>\n",
       "      <td>1.850694</td>\n",
       "      <td>9.504836</td>\n",
       "      <td>-0.000603</td>\n",
       "      <td>1017.122623</td>\n",
       "      <td>215.193020</td>\n",
       "      <td>3.881576</td>\n",
       "    </tr>\n",
       "    <tr>\n",
       "      <th>std</th>\n",
       "      <td>26.286334</td>\n",
       "      <td>0.0</td>\n",
       "      <td>286.361571</td>\n",
       "      <td>0.0</td>\n",
       "      <td>85362.315842</td>\n",
       "      <td>31.981264</td>\n",
       "      <td>2.689169</td>\n",
       "      <td>4.841540</td>\n",
       "      <td>1.354687</td>\n",
       "      <td>4.047034</td>\n",
       "      <td>0.162522</td>\n",
       "      <td>4.586045</td>\n",
       "      <td>116.222353</td>\n",
       "      <td>2.600554</td>\n",
       "    </tr>\n",
       "    <tr>\n",
       "      <th>min</th>\n",
       "      <td>565.000000</td>\n",
       "      <td>0.0</td>\n",
       "      <td>0.000000</td>\n",
       "      <td>4.0</td>\n",
       "      <td>387.000000</td>\n",
       "      <td>1903.000000</td>\n",
       "      <td>1.000000</td>\n",
       "      <td>1.100000</td>\n",
       "      <td>0.000000</td>\n",
       "      <td>-9.400000</td>\n",
       "      <td>-1.000000</td>\n",
       "      <td>1007.800000</td>\n",
       "      <td>0.000000</td>\n",
       "      <td>0.000000</td>\n",
       "    </tr>\n",
       "    <tr>\n",
       "      <th>25%</th>\n",
       "      <td>587.000000</td>\n",
       "      <td>0.0</td>\n",
       "      <td>17.829325</td>\n",
       "      <td>4.0</td>\n",
       "      <td>29063.000000</td>\n",
       "      <td>1924.000000</td>\n",
       "      <td>4.000000</td>\n",
       "      <td>12.800000</td>\n",
       "      <td>0.000000</td>\n",
       "      <td>7.800000</td>\n",
       "      <td>0.000000</td>\n",
       "      <td>1013.600000</td>\n",
       "      <td>120.000000</td>\n",
       "      <td>2.100000</td>\n",
       "    </tr>\n",
       "    <tr>\n",
       "      <th>50%</th>\n",
       "      <td>610.000000</td>\n",
       "      <td>0.0</td>\n",
       "      <td>68.983700</td>\n",
       "      <td>4.0</td>\n",
       "      <td>68701.000000</td>\n",
       "      <td>1954.000000</td>\n",
       "      <td>5.000000</td>\n",
       "      <td>15.600000</td>\n",
       "      <td>2.000000</td>\n",
       "      <td>10.600000</td>\n",
       "      <td>0.000000</td>\n",
       "      <td>1016.600000</td>\n",
       "      <td>270.000000</td>\n",
       "      <td>3.600000</td>\n",
       "    </tr>\n",
       "    <tr>\n",
       "      <th>75%</th>\n",
       "      <td>633.000000</td>\n",
       "      <td>0.0</td>\n",
       "      <td>195.000000</td>\n",
       "      <td>4.0</td>\n",
       "      <td>137806.000000</td>\n",
       "      <td>1970.000000</td>\n",
       "      <td>7.000000</td>\n",
       "      <td>18.900000</td>\n",
       "      <td>2.000000</td>\n",
       "      <td>12.200000</td>\n",
       "      <td>0.000000</td>\n",
       "      <td>1019.900000</td>\n",
       "      <td>300.000000</td>\n",
       "      <td>5.700000</td>\n",
       "    </tr>\n",
       "    <tr>\n",
       "      <th>max</th>\n",
       "      <td>655.000000</td>\n",
       "      <td>0.0</td>\n",
       "      <td>2293.880000</td>\n",
       "      <td>4.0</td>\n",
       "      <td>420885.000000</td>\n",
       "      <td>2016.000000</td>\n",
       "      <td>14.000000</td>\n",
       "      <td>35.000000</td>\n",
       "      <td>9.000000</td>\n",
       "      <td>17.800000</td>\n",
       "      <td>8.000000</td>\n",
       "      <td>1031.700000</td>\n",
       "      <td>360.000000</td>\n",
       "      <td>12.900000</td>\n",
       "    </tr>\n",
       "  </tbody>\n",
       "</table>\n",
       "</div>"
      ],
      "text/plain": [
       "         building_id     meter  meter_reading   site_id    square_feet  \\\n",
       "count  321728.000000  321728.0  321728.000000  321728.0  321728.000000   \n",
       "mean      610.088559       0.0     179.570860       4.0   95639.173774   \n",
       "std        26.286334       0.0     286.361571       0.0   85362.315842   \n",
       "min       565.000000       0.0       0.000000       4.0     387.000000   \n",
       "25%       587.000000       0.0      17.829325       4.0   29063.000000   \n",
       "50%       610.000000       0.0      68.983700       4.0   68701.000000   \n",
       "75%       633.000000       0.0     195.000000       4.0  137806.000000   \n",
       "max       655.000000       0.0    2293.880000       4.0  420885.000000   \n",
       "\n",
       "          year_built    floor_count  air_temperature  cloud_coverage  \\\n",
       "count  321728.000000  321728.000000    321728.000000   321728.000000   \n",
       "mean     1953.484129       5.399120        15.724291        1.850694   \n",
       "std        31.981264       2.689169         4.841540        1.354687   \n",
       "min      1903.000000       1.000000         1.100000        0.000000   \n",
       "25%      1924.000000       4.000000        12.800000        0.000000   \n",
       "50%      1954.000000       5.000000        15.600000        2.000000   \n",
       "75%      1970.000000       7.000000        18.900000        2.000000   \n",
       "max      2016.000000      14.000000        35.000000        9.000000   \n",
       "\n",
       "       dew_temperature  precip_depth_1_hr  sea_level_pressure  wind_direction  \\\n",
       "count    321728.000000      321728.000000       321728.000000   321728.000000   \n",
       "mean          9.504836          -0.000603         1017.122623      215.193020   \n",
       "std           4.047034           0.162522            4.586045      116.222353   \n",
       "min          -9.400000          -1.000000         1007.800000        0.000000   \n",
       "25%           7.800000           0.000000         1013.600000      120.000000   \n",
       "50%          10.600000           0.000000         1016.600000      270.000000   \n",
       "75%          12.200000           0.000000         1019.900000      300.000000   \n",
       "max          17.800000           8.000000         1031.700000      360.000000   \n",
       "\n",
       "          wind_speed  \n",
       "count  321728.000000  \n",
       "mean        3.881576  \n",
       "std         2.600554  \n",
       "min         0.000000  \n",
       "25%         2.100000  \n",
       "50%         3.600000  \n",
       "75%         5.700000  \n",
       "max        12.900000  "
      ]
     },
     "execution_count": 18,
     "metadata": {},
     "output_type": "execute_result"
    }
   ],
   "source": [
    "#For now just work with rows without NA and decide how to fill later on, note that 99% of data is removed\n",
    "df=df.dropna(axis=0)\n",
    "df.describe()"
   ]
  },
  {
   "cell_type": "code",
   "execution_count": 54,
   "metadata": {},
   "outputs": [],
   "source": [
    "df['primary_use']=df['primary_use'].astype('category')"
   ]
  },
  {
   "cell_type": "markdown",
   "metadata": {},
   "source": [
    "<h1> Investigating Building Metadata"
   ]
  },
  {
   "cell_type": "code",
   "execution_count": 33,
   "metadata": {},
   "outputs": [],
   "source": [
    "X=df.loc[:,'year_built']\n",
    "Y=df.loc[:,'meter_reading']\n",
    "\n",
    "lm=LinearRegression()\n",
    "Y_fit=lm.fit(X.values.reshape(-1,1),Y).predict(X.values.reshape(-1,1))"
   ]
  },
  {
   "cell_type": "code",
   "execution_count": 34,
   "metadata": {},
   "outputs": [],
   "source": [
    "year_group=df.groupby('year_built')\n",
    "year_group_means=year_group.mean() #could limit size of dataframe here\n",
    "year_group_std=year_group.std()\n",
    "X_grouped=year_group_means.index\n",
    "Y_grouped=year_group_means['meter_reading']\n",
    "yerr_grouped=year_group_std['meter_reading']"
   ]
  },
  {
   "cell_type": "code",
   "execution_count": 37,
   "metadata": {},
   "outputs": [
    {
     "data": {
      "image/png": "[encoded data removed]",
      "text/plain": [
       "<Figure size 1080x360 with 1 Axes>"
      ]
     },
     "metadata": {
      "needs_background": "light"
     },
     "output_type": "display_data"
    },
    {
     "name": "stdout",
     "output_type": "stream",
     "text": [
      "R^2 =0.14\n"
     ]
    },
    {
     "data": {
      "image/png": "[encoded data removed]",
      "text/plain": [
       "<Figure size 432x288 with 1 Axes>"
      ]
     },
     "metadata": {
      "needs_background": "light"
     },
     "output_type": "display_data"
    }
   ],
   "source": [
    "plt.figure(figsize=(15,5)) \n",
    "plt.errorbar(X_grouped,Y_grouped,yerr=yerr,fmt='ko',markersize=4)\n",
    "plt.plot(X,Y_fit,'r')\n",
    "plt.ylim(0,2000)\n",
    "plt.show()\n",
    "print(f'R^2 ={round(lm.score(X.values.reshape(-1,1),Y),2)}')\n",
    "\n",
    "plt.scatter(X_grouped,year_group.count()['meter_reading'])\n",
    "plt.show()"
   ]
  },
  {
   "cell_type": "markdown",
   "metadata": {},
   "source": [
    "<h1>Investigate Timing Parameters"
   ]
  },
  {
   "cell_type": "code",
   "execution_count": 18,
   "metadata": {},
   "outputs": [],
   "source": [
    "df['timestamp']=pd.to_datetime(df['timestamp'])\n",
    "df['month']=df['timestamp'].dt.month\n",
    "df['hour']=df['timestamp'].dt.hour"
   ]
  },
  {
   "cell_type": "code",
   "execution_count": 52,
   "metadata": {},
   "outputs": [],
   "source": [
    "month_groups=df.groupby('month').mean()\n",
    "hour_groups=df.groupby('hour').mean()"
   ]
  },
  {
   "cell_type": "code",
   "execution_count": 61,
   "metadata": {},
   "outputs": [
    {
     "data": {
      "image/png": "[encoded data removed]",
      "text/plain": [
       "<Figure size 432x288 with 1 Axes>"
      ]
     },
     "metadata": {
      "needs_background": "light"
     },
     "output_type": "display_data"
    }
   ],
   "source": [
    "plt.bar(month_groups.index.values,month_groups['meter_reading'])\n",
    "plt.show()"
   ]
  },
  {
   "cell_type": "code",
   "execution_count": 65,
   "metadata": {},
   "outputs": [
    {
     "data": {
      "image/png": "[encoded data removed]",
      "text/plain": [
       "<Figure size 432x288 with 1 Axes>"
      ]
     },
     "metadata": {
      "needs_background": "light"
     },
     "output_type": "display_data"
    }
   ],
   "source": [
    "plt.bar(hour_groups.index.values,hour_groups['meter_reading'])\n",
    "plt.show()"
   ]
  },
  {
   "cell_type": "code",
   "execution_count": 9,
   "metadata": {},
   "outputs": [],
   "source": [
    "times_temp=df[df['building_id']==0].loc[::50,'timestamp'].values\n",
    "e_temp=df[df['building_id']==0].loc[::50,'meter_reading'].values\n",
    "air_temp=df[df['building_id']==0].loc[::50,'air_temperature'].values"
   ]
  },
  {
   "cell_type": "markdown",
   "metadata": {},
   "source": [
    "#Can be multiple meters in a single building (up to 3)\n",
    "#How much does power consumption vary at a single site?\n",
    "#need to handle many NAN and zeros\n"
   ]
  },
  {
   "cell_type": "markdown",
   "metadata": {},
   "source": [
    "<h1>Fitting Data"
   ]
  },
  {
   "cell_type": "code",
   "execution_count": 60,
   "metadata": {},
   "outputs": [],
   "source": [
    "#linear regression"
   ]
  },
  {
   "cell_type": "code",
   "execution_count": 63,
   "metadata": {},
   "outputs": [],
   "source": [
    "#Generate dummy variables and add to main dataframe\n",
    "use_dummies=pd.get_dummies(df['primary_use'],drop_first=True)\n",
    "df=pd.concat([df,use_dummies],axis=1)"
   ]
  },
  {
   "cell_type": "code",
   "execution_count": 71,
   "metadata": {},
   "outputs": [
    {
     "data": {
      "text/plain": [
       "Index(['building_id', 'meter', 'timestamp', 'meter_reading', 'site_id',\n",
       "       'primary_use', 'square_feet', 'year_built', 'floor_count',\n",
       "       'air_temperature', 'cloud_coverage', 'dew_temperature',\n",
       "       'precip_depth_1_hr', 'sea_level_pressure', 'wind_direction',\n",
       "       'wind_speed', 'Entertainment/public assembly', 'Lodging/residential',\n",
       "       'Parking', 'Public services', 'Technology/science', 'Utility'],\n",
       "      dtype='object')"
      ]
     },
     "execution_count": 71,
     "metadata": {},
     "output_type": "execute_result"
    }
   ],
   "source": [
    "df.columns"
   ]
  },
  {
   "cell_type": "code",
   "execution_count": 110,
   "metadata": {},
   "outputs": [],
   "source": [
    "#define target and features\n",
    "Y=np.array(df['meter_reading'])\n",
    "X=np.array(df.loc[:,['square_feet','year_built','floor_count','air_temperature',\n",
    "                     'Entertainment/public assembly', 'Lodging/residential','Parking',\n",
    "                     'Public services', 'Technology/science', 'Utility']])"
   ]
  },
  {
   "cell_type": "code",
   "execution_count": 117,
   "metadata": {},
   "outputs": [],
   "source": [
    "#try limiting features\n",
    "X=np.array(df.loc[:,['square_feet','air_temperature']])"
   ]
  },
  {
   "cell_type": "code",
   "execution_count": 118,
   "metadata": {},
   "outputs": [],
   "source": [
    "#split into test-train\n",
    "X_train, X_test, y_train, y_test=train_test_split(X,Y,test_size=0.2, random_state=1)"
   ]
  },
  {
   "cell_type": "code",
   "execution_count": 119,
   "metadata": {},
   "outputs": [
    {
     "data": {
      "text/plain": [
       "LinearRegression(copy_X=True, fit_intercept=True, n_jobs=None,\n",
       "         normalize=False)"
      ]
     },
     "execution_count": 119,
     "metadata": {},
     "output_type": "execute_result"
    }
   ],
   "source": [
    "#fit data and make predictions for test set\n",
    "lm=LinearRegression()\n",
    "lm.fit(X_train,y_train)"
   ]
  },
  {
   "cell_type": "code",
   "execution_count": 120,
   "metadata": {},
   "outputs": [],
   "source": [
    "#predict test and train values and compare accuracy and Kaggle chosen score\n",
    "y_train_pred=lm.predict(X_train)\n",
    "y_test_pred=lm.predict(X_test)"
   ]
  },
  {
   "cell_type": "code",
   "execution_count": 121,
   "metadata": {},
   "outputs": [
    {
     "data": {
      "image/png": "[encoded data removed]",
      "text/plain": [
       "<Figure size 432x288 with 1 Axes>"
      ]
     },
     "metadata": {
      "needs_background": "light"
     },
     "output_type": "display_data"
    }
   ],
   "source": [
    "plt.scatter(y_train,y_train_pred)\n",
    "plt.show()"
   ]
  },
  {
   "cell_type": "code",
   "execution_count": 122,
   "metadata": {},
   "outputs": [
    {
     "data": {
      "image/png": "[encoded data removed]",
      "text/plain": [
       "<Figure size 432x288 with 1 Axes>"
      ]
     },
     "metadata": {
      "needs_background": "light"
     },
     "output_type": "display_data"
    }
   ],
   "source": [
    "plt.scatter(y_test,y_test_pred)\n",
    "plt.show()"
   ]
  },
  {
   "cell_type": "code",
   "execution_count": 123,
   "metadata": {},
   "outputs": [
    {
     "name": "stdout",
     "output_type": "stream",
     "text": [
      "Training MSE: 51153.0\n",
      "Testing MSE: 51283.0\n"
     ]
    }
   ],
   "source": [
    "print(f'Training MSE: {round(mean_squared_error(y_train,y_train_pred))}')\n",
    "print(f'Testing MSE: {round(mean_squared_error(y_test,y_test_pred))}')"
   ]
  },
  {
   "cell_type": "code",
   "execution_count": null,
   "metadata": {},
   "outputs": [],
   "source": [
    "# figure out NAN\n",
    "# Add more features\n",
    "# Feature engineering\n",
    "# Add more features\n",
    "# Different models\n",
    "# Regularization\n",
    "    #Ridge and lasso and (elastic net)\n",
    "#Energy types in different buildings\n",
    "#Data analysis"
   ]
  }
 ],
 "metadata": {
  "kernelspec": {
   "display_name": "Python 3",
   "language": "python",
   "name": "python3"
  },
  "language_info": {
   "codemirror_mode": {
    "name": "ipython",
    "version": 3
   },
   "file_extension": ".py",
   "mimetype": "text/x-python",
   "name": "python",
   "nbconvert_exporter": "python",
   "pygments_lexer": "ipython3",
   "version": "3.7.1"
  }
 },
 "nbformat": 4,
 "nbformat_minor": 2
}
